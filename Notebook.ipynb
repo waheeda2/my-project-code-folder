{
 "cells": [
  {
   "cell_type": "markdown",
   "metadata": {},
   "source": [
    "# HandWritten Word Segmentation"
   ]
  },
  {
   "cell_type": "markdown",
   "metadata": {},
   "source": [
    "# Importing Packages"
   ]
  },
  {
   "cell_type": "code",
   "execution_count": 1,
   "metadata": {},
   "outputs": [],
   "source": [
    "import seaborn as sns\n",
    "import numpy as np\n",
    "import matplotlib.pyplot as pt\n",
    "import pandas as pd\n",
    "from sklearn.model_selection import train_test_split"
   ]
  },
  {
   "cell_type": "markdown",
   "metadata": {},
   "source": [
    "# Data Exploration"
   ]
  },
  {
   "cell_type": "code",
   "execution_count": 2,
   "metadata": {},
   "outputs": [],
   "source": [
    "data =pd.read_csv(\"hand.csv\").values"
   ]
  },
  {
   "cell_type": "markdown",
   "metadata": {},
   "source": [
    "# Data Splitting Training & Testing"
   ]
  },
  {
   "cell_type": "code",
   "execution_count": 3,
   "metadata": {},
   "outputs": [],
   "source": [
    "#trianing dataset\n",
    "xtrain =data[0:40000,1:]\n",
    "train_lebel=data[0:40000,0]"
   ]
  },
  {
   "cell_type": "code",
   "execution_count": 4,
   "metadata": {},
   "outputs": [],
   "source": [
    "#test dataset\n",
    "xtest=data[30000:,1:]\n",
    "actual_lebel=data[30000:,0]"
   ]
  },
  {
   "cell_type": "markdown",
   "metadata": {},
   "source": [
    "# ML & DL "
   ]
  },
  {
   "cell_type": "code",
   "execution_count": 5,
   "metadata": {},
   "outputs": [],
   "source": [
    "from sklearn.model_selection import cross_val_score\n",
    "from sklearn.metrics import classification_report\n",
    "from sklearn.metrics import confusion_matrix\n",
    "from sklearn.metrics import accuracy_score"
   ]
  },
  {
   "cell_type": "markdown",
   "metadata": {},
   "source": [
    "# Random Forest Classifier"
   ]
  },
  {
   "cell_type": "code",
   "execution_count": 6,
   "metadata": {},
   "outputs": [
    {
     "name": "stdout",
     "output_type": "stream",
     "text": [
      "*Confusion Matrix for RF: \n",
      "[[1193    0    0    0    0    0    1    0    1    0]\n",
      " [   0 1349    0    0    0    2    0    0    1    0]\n",
      " [   4    0 1149    2    0    0    0    0    2    0]\n",
      " [   0    0    2 1249    0    1    1    1    2    2]\n",
      " [   0    1    0    0 1135    0    1    0    1    2]\n",
      " [   1    1    0    3    0 1065    1    0    3    2]\n",
      " [   1    0    0    0    1    0 1165    0    0    0]\n",
      " [   0    0    2    0    0    0    0 1262    1    3]\n",
      " [   0    1    1    1    1    0    3    0 1166    1]\n",
      " [   0    0    3    3    3    0    0    2    1 1201]]\n",
      "*Classification Report for RF: \n",
      "              precision    recall  f1-score   support\n",
      "\n",
      "           0       0.99      1.00      1.00      1195\n",
      "           1       1.00      1.00      1.00      1352\n",
      "           2       0.99      0.99      0.99      1157\n",
      "           3       0.99      0.99      0.99      1258\n",
      "           4       1.00      1.00      1.00      1140\n",
      "           5       1.00      0.99      0.99      1076\n",
      "           6       0.99      1.00      1.00      1167\n",
      "           7       1.00      1.00      1.00      1268\n",
      "           8       0.99      0.99      0.99      1174\n",
      "           9       0.99      0.99      0.99      1213\n",
      "\n",
      "    accuracy                           0.99     12000\n",
      "   macro avg       0.99      0.99      0.99     12000\n",
      "weighted avg       0.99      0.99      0.99     12000\n",
      "\n"
     ]
    }
   ],
   "source": [
    "from sklearn.ensemble import RandomForestClassifier\n",
    "RF = RandomForestClassifier()\n",
    "RF.fit(xtrain,train_lebel)\n",
    "predictions = RF.predict(xtest)\n",
    "print(\"*Confusion Matrix for RF: \")\n",
    "print(confusion_matrix(actual_lebel, predictions))\n",
    "print(\"*Classification Report for RF: \")\n",
    "print(classification_report(actual_lebel, predictions))"
   ]
  },
  {
   "cell_type": "code",
   "execution_count": 7,
   "metadata": {},
   "outputs": [
    {
     "name": "stdout",
     "output_type": "stream",
     "text": [
      "0.0015987210231814548\n",
      "99.45\n",
      "0.9992\n",
      "0.0\n"
     ]
    }
   ],
   "source": [
    "confusion = confusion_matrix(actual_lebel, predictions)\n",
    "TP = confusion[3, 3]\n",
    "TN = confusion[0, 3]\n",
    "FP = confusion[0, 8]\n",
    "FN = confusion[8, 3]\n",
    "classification_error = (FP + FN) / float(TP + TN + FP + FN)\n",
    "\n",
    "print(classification_error)\n",
    "val1 = accuracy_score(actual_lebel, predictions)*100\n",
    "print(val1)\n",
    "from sklearn import metrics\n",
    "RF_sensitivity = (TP / float(FN + TP))\n",
    "\n",
    "print(RF_sensitivity)\n",
    "RF_specificity = (TN / (TN + FP))\n",
    "\n",
    "print(RF_specificity)"
   ]
  },
  {
   "cell_type": "markdown",
   "metadata": {},
   "source": [
    "# Decision Tree Classifier"
   ]
  },
  {
   "cell_type": "code",
   "execution_count": 8,
   "metadata": {},
   "outputs": [
    {
     "name": "stdout",
     "output_type": "stream",
     "text": [
      "*Confusion Matrix for DT: \n",
      "[[1172    1    5    1    2    6    2    1    5    0]\n",
      " [   0 1346    0    1    1    1    1    1    1    0]\n",
      " [   1    3 1124    5    2    1    7    3    8    3]\n",
      " [   3    2    5 1219    4    7    1    3    8    6]\n",
      " [   2    5    5    0 1105    4    5    5    1    8]\n",
      " [   3    1    5   14    4 1039    3    1    5    1]\n",
      " [   0    0    2    1    5    5 1146    2    5    1]\n",
      " [   1    1    8    1    2    1    0 1251    1    2]\n",
      " [   1    2    5    7    9    0    9    2 1133    6]\n",
      " [   2    0    1    7   13    2    0    8    1 1179]]\n",
      "*Classification Report for DT: \n",
      "              precision    recall  f1-score   support\n",
      "\n",
      "           0       0.99      0.98      0.98      1195\n",
      "           1       0.99      1.00      0.99      1352\n",
      "           2       0.97      0.97      0.97      1157\n",
      "           3       0.97      0.97      0.97      1258\n",
      "           4       0.96      0.97      0.97      1140\n",
      "           5       0.97      0.97      0.97      1076\n",
      "           6       0.98      0.98      0.98      1167\n",
      "           7       0.98      0.99      0.98      1268\n",
      "           8       0.97      0.97      0.97      1174\n",
      "           9       0.98      0.97      0.97      1213\n",
      "\n",
      "    accuracy                           0.98     12000\n",
      "   macro avg       0.98      0.98      0.98     12000\n",
      "weighted avg       0.98      0.98      0.98     12000\n",
      "\n"
     ]
    }
   ],
   "source": [
    "from sklearn import tree\n",
    "DT = tree.DecisionTreeClassifier()\n",
    "DT.fit(xtrain,train_lebel)\n",
    "predictions = DT.predict(xtest)\n",
    "print(\"*Confusion Matrix for DT: \")\n",
    "print(confusion_matrix(actual_lebel, predictions))\n",
    "print(\"*Classification Report for DT: \")\n",
    "print(classification_report(actual_lebel, predictions))"
   ]
  },
  {
   "cell_type": "code",
   "execution_count": 9,
   "metadata": {},
   "outputs": [
    {
     "name": "stdout",
     "output_type": "stream",
     "text": [
      "0.00974025974025974\n",
      "97.61666666666666\n",
      "0.9942903752039152\n",
      "0.16666666666666666\n"
     ]
    }
   ],
   "source": [
    "confusion = confusion_matrix(actual_lebel, predictions)\n",
    "TP = confusion[3, 3]\n",
    "TN = confusion[0, 3]\n",
    "FP = confusion[0, 8]\n",
    "FN = confusion[8, 3]\n",
    "classification_error = (FP + FN) / float(TP + TN + FP + FN)\n",
    "\n",
    "print(classification_error)\n",
    "val2 = accuracy_score(actual_lebel, predictions)*100\n",
    "print(val2)\n",
    "from sklearn import metrics\n",
    "DT_sensitivity = (TP / float(FN + TP))\n",
    "\n",
    "print(DT_sensitivity)\n",
    "DT_specificity = (TN / (TN + FP))\n",
    "\n",
    "print(DT_specificity)"
   ]
  },
  {
   "cell_type": "markdown",
   "metadata": {},
   "source": [
    "# MLP Classifier - ANN"
   ]
  },
  {
   "cell_type": "code",
   "execution_count": 10,
   "metadata": {},
   "outputs": [
    {
     "name": "stdout",
     "output_type": "stream",
     "text": [
      "*Confusion Matrix for MLP: \n",
      "[[1170    0    3    0    0    3   11    0    7    1]\n",
      " [   0 1341    0    2    1    2    1    0    4    1]\n",
      " [   2    0 1129    4    0    2    3    1   14    2]\n",
      " [   0    2    0 1240    0   10    0    0    5    1]\n",
      " [   1    1    1    0 1125    0    5    0    2    5]\n",
      " [   2    0    0    2    0 1057    4    1    9    1]\n",
      " [   1    1    2    0    0    0 1162    0    1    0]\n",
      " [   0    1    4   12    4    0    0 1225    6   16]\n",
      " [   1    0    1    0    0    3    3    0 1165    1]\n",
      " [   1    0    0    4    4    0    0    2    7 1195]]\n",
      "*Classification Report for MLP: \n",
      "              precision    recall  f1-score   support\n",
      "\n",
      "           0       0.99      0.98      0.99      1195\n",
      "           1       1.00      0.99      0.99      1352\n",
      "           2       0.99      0.98      0.98      1157\n",
      "           3       0.98      0.99      0.98      1258\n",
      "           4       0.99      0.99      0.99      1140\n",
      "           5       0.98      0.98      0.98      1076\n",
      "           6       0.98      1.00      0.99      1167\n",
      "           7       1.00      0.97      0.98      1268\n",
      "           8       0.95      0.99      0.97      1174\n",
      "           9       0.98      0.99      0.98      1213\n",
      "\n",
      "    accuracy                           0.98     12000\n",
      "   macro avg       0.98      0.98      0.98     12000\n",
      "weighted avg       0.98      0.98      0.98     12000\n",
      "\n"
     ]
    }
   ],
   "source": [
    "from sklearn.neural_network import MLPClassifier\n",
    "MLP = MLPClassifier()\n",
    "MLP.fit(xtrain,train_lebel)\n",
    "predictions = MLP.predict(xtest)\n",
    "print(\"*Confusion Matrix for MLP: \")\n",
    "print(confusion_matrix(actual_lebel, predictions))\n",
    "print(\"*Classification Report for MLP: \")\n",
    "print(classification_report(actual_lebel, predictions))"
   ]
  },
  {
   "cell_type": "code",
   "execution_count": 11,
   "metadata": {},
   "outputs": [
    {
     "name": "stdout",
     "output_type": "stream",
     "text": [
      "0.0056134723336006415\n",
      "98.40833333333333\n",
      "1.0\n",
      "0.0\n"
     ]
    }
   ],
   "source": [
    "confusion = confusion_matrix(actual_lebel, predictions)\n",
    "TP = confusion[3, 3]\n",
    "TN = confusion[0, 3]\n",
    "FP = confusion[0, 8]\n",
    "FN = confusion[8, 3]\n",
    "classification_error = (FP + FN) / float(TP + TN + FP + FN)\n",
    "\n",
    "print(classification_error)\n",
    "val3 = accuracy_score(actual_lebel, predictions)*100\n",
    "print(val3)\n",
    "from sklearn import metrics\n",
    "MLP_sensitivity = (TP / float(FN + TP))\n",
    "\n",
    "print(MLP_sensitivity)\n",
    "MLP_specificity = (TN / (TN + FP))\n",
    "\n",
    "print(MLP_specificity)"
   ]
  },
  {
   "cell_type": "markdown",
   "metadata": {},
   "source": [
    "# KNeighbors Classifier"
   ]
  },
  {
   "cell_type": "code",
   "execution_count": 12,
   "metadata": {},
   "outputs": [
    {
     "name": "stdout",
     "output_type": "stream",
     "text": [
      "*Confusion Matrix for KNN: \n",
      "[[1193    0    0    0    0    1    1    0    0    0]\n",
      " [   0 1350    1    0    1    0    0    0    0    0]\n",
      " [  10    6 1120    2    1    1    0   16    0    1]\n",
      " [   1    3    4 1231    0    5    0    5    3    6]\n",
      " [   0   11    0    0 1107    0    4    0    1   17]\n",
      " [   3    2    0   11    0 1043   10    0    2    5]\n",
      " [   2    1    1    0    2    4 1157    0    0    0]\n",
      " [   0   12    3    0    3    0    0 1241    0    9]\n",
      " [   3   21    0    8    7   18    1    0 1107    9]\n",
      " [   5    1    2    5    6    4    0   18    1 1171]]\n",
      "*Classification Report for KNN: \n",
      "              precision    recall  f1-score   support\n",
      "\n",
      "           0       0.98      1.00      0.99      1195\n",
      "           1       0.96      1.00      0.98      1352\n",
      "           2       0.99      0.97      0.98      1157\n",
      "           3       0.98      0.98      0.98      1258\n",
      "           4       0.98      0.97      0.98      1140\n",
      "           5       0.97      0.97      0.97      1076\n",
      "           6       0.99      0.99      0.99      1167\n",
      "           7       0.97      0.98      0.97      1268\n",
      "           8       0.99      0.94      0.97      1174\n",
      "           9       0.96      0.97      0.96      1213\n",
      "\n",
      "    accuracy                           0.98     12000\n",
      "   macro avg       0.98      0.98      0.98     12000\n",
      "weighted avg       0.98      0.98      0.98     12000\n",
      "\n"
     ]
    }
   ],
   "source": [
    "from sklearn.neighbors import KNeighborsClassifier\n",
    "KNN = KNeighborsClassifier()\n",
    "KNN.fit(xtrain,train_lebel)\n",
    "predictions = KNN.predict(xtest)\n",
    "print(\"*Confusion Matrix for KNN: \")\n",
    "print(confusion_matrix(actual_lebel, predictions))\n",
    "print(\"*Classification Report for KNN: \")\n",
    "print(classification_report(actual_lebel, predictions))"
   ]
  },
  {
   "cell_type": "code",
   "execution_count": 16,
   "metadata": {},
   "outputs": [
    {
     "name": "stdout",
     "output_type": "stream",
     "text": [
      "0.5157342657342657\n",
      "97.66666666666667\n",
      "0.9919354838709677\n",
      "0.0008532423208191126\n"
     ]
    }
   ],
   "source": [
    "confusion = confusion_matrix(actual_lebel, predictions)\n",
    "TP = confusion[8, 8]\n",
    "TN = confusion[9, 8]\n",
    "FP = confusion[9, 9]\n",
    "FN = confusion[8, 9]\n",
    "classification_error = (FP + FN) / float(TP + TN + FP + FN)\n",
    "\n",
    "print(classification_error)\n",
    "val4 = accuracy_score(actual_lebel, predictions)*100\n",
    "print(val4)\n",
    "from sklearn import metrics\n",
    "KNN_sensitivity = (TP / float(FN + TP))\n",
    "\n",
    "print(KNN_sensitivity)\n",
    "KNN_specificity = (TN / (TN + FP))\n",
    "\n",
    "print(KNN_specificity)"
   ]
  },
  {
   "cell_type": "markdown",
   "metadata": {},
   "source": [
    "# Model Comparison"
   ]
  },
  {
   "cell_type": "markdown",
   "metadata": {},
   "source": [
    "# Accuracy"
   ]
  },
  {
   "cell_type": "code",
   "execution_count": 17,
   "metadata": {},
   "outputs": [
    {
     "name": "stderr",
     "output_type": "stream",
     "text": [
      "/home/user/test/lib/python3.6/site-packages/ipykernel_launcher.py:10: FutureWarning: 'from_array' is deprecated and will be removed in a future version. Please use the pd.Series(..) constructor instead.\n",
      "  # Remove the CWD from sys.path while we load stuff.\n"
     ]
    },
    {
     "data": {
      "image/png": "[encoded data removed]",
      "text/plain": [
       "<Figure size 864x576 with 1 Axes>"
      ]
     },
     "metadata": {
      "needs_background": "light"
     },
     "output_type": "display_data"
    }
   ],
   "source": [
    "import numpy as np\n",
    "import pandas as pd\n",
    "import matplotlib.pyplot as plt\n",
    "\n",
    "# Bring some raw data.\n",
    "frequencies = [val1,val2,val3,val4]\n",
    "\n",
    "# In my original code I create a series and run on that,\n",
    "# so for consistency I create a series from the list.\n",
    "freq_series = pd.Series.from_array(frequencies)\n",
    "\n",
    "x_labels = ['RF','DT','MLP-ANN','KNN']\n",
    "\n",
    "# Plot the figure.\n",
    "plt.figure(figsize=(12, 8))\n",
    "ax = freq_series.plot(kind='bar')\n",
    "ax.set_title('Evaluation of ML & DL')\n",
    "ax.set_xlabel('Classifier!')\n",
    "ax.set_ylabel('Accuracy Range')\n",
    "ax.set_xticklabels(x_labels)\n",
    "\n",
    "\n",
    "def add_value_labels(ax, spacing=5):\n",
    "    \"\"\"Add labels to the end of each bar in a bar chart.\n",
    "\n",
    "    Arguments:\n",
    "        ax (matplotlib.axes.Axes): The matplotlib object containing the axes\n",
    "            of the plot to annotate.\n",
    "        spacing (int): The distance between the labels and the bars.\n",
    "    \"\"\"\n",
    "\n",
    "    # For each bar: Place a label\n",
    "    for rect in ax.patches:\n",
    "        # Get X and Y placement of label from rect.\n",
    "        y_value = rect.get_height()\n",
    "        x_value = rect.get_x() + rect.get_width() / 2\n",
    "\n",
    "        # Number of points between bar and label. Change to your liking.\n",
    "        space = spacing\n",
    "        # Vertical alignment for positive values\n",
    "        va = 'bottom'\n",
    "\n",
    "        # If value of bar is negative: Place label below bar\n",
    "        if y_value < 0:\n",
    "            # Invert space to place label below\n",
    "            space *= -1\n",
    "            # Vertically align label at top\n",
    "            va = 'top'\n",
    "\n",
    "        # Use Y value as label and format number with one decimal place\n",
    "        label = \"{:.1f}\".format(y_value)\n",
    "\n",
    "        # Create annotation\n",
    "        ax.annotate(\n",
    "            label,                      # Use `label` as label\n",
    "            (x_value, y_value),         # Place label at end of the bar\n",
    "            xytext=(0, space),          # Vertically shift label by `space`\n",
    "            textcoords=\"offset points\", # Interpret `xytext` as offset in points\n",
    "            ha='center',                # Horizontally center label\n",
    "            va=va)                      # Vertically align label differently for\n",
    "                                        # positive and negative values.\n",
    "\n",
    "\n",
    "# Call the function above. All the magic happens there.\n",
    "add_value_labels(ax)\n",
    "plt.show()\n",
    "#plt.savefig(\"image.png\")"
   ]
  },
  {
   "cell_type": "markdown",
   "metadata": {},
   "source": [
    "# Accuracy - Sensitivity - Specificity"
   ]
  },
  {
   "cell_type": "code",
   "execution_count": 18,
   "metadata": {},
   "outputs": [
    {
     "data": {
      "image/png": "[encoded data removed]",
      "text/plain": [
       "<Figure size 432x288 with 1 Axes>"
      ]
     },
     "metadata": {
      "needs_background": "light"
     },
     "output_type": "display_data"
    }
   ],
   "source": [
    "import numpy as np\n",
    "import matplotlib.pyplot as plt\n",
    "\n",
    "N = 4\n",
    "ind = np.arange(N)  # the x locations for the groups\n",
    "width = 0.2      # the width of the bars\n",
    "\n",
    "fig = plt.figure()\n",
    "ax = fig.add_subplot(111)\n",
    "\n",
    "yvals = [val1,val2,val3,val4]\n",
    "\n",
    "rects1 = ax.bar(ind, yvals, width, color='r')\n",
    "zvals = [RF_sensitivity,DT_sensitivity,MLP_sensitivity,KNN_sensitivity]\n",
    "rects2 = ax.bar(ind+width, zvals, width, color='g')\n",
    "kvals = [RF_specificity,DT_specificity,MLP_specificity,KNN_specificity]\n",
    "rects3 = ax.bar(ind+width*2, kvals, width, color='b')\n",
    "\n",
    "ax.set_ylabel('Scores')\n",
    "ax.set_xticks(ind+width)\n",
    "ax.set_xticklabels( ('RF','DT','MLP-ANN','KNN') )\n",
    "ax.legend( (rects1[0], rects2[0], rects3[0]), ('Accuracy', 'Sensitvity', 'Specificity') )\n",
    "\n",
    "def autolabel(rects):\n",
    "    for rect in rects:\n",
    "        h = rect.get_height()\n",
    "        ax.text(rect.get_x()+rect.get_width()/2., 1.05*h, '%d'%int(h),\n",
    "                ha='center', va='bottom')\n",
    "\n",
    "autolabel(rects1)\n",
    "autolabel(rects2)\n",
    "autolabel(rects3)\n",
    "\n",
    "plt.show()"
   ]
  },
  {
   "cell_type": "code",
   "execution_count": null,
   "metadata": {},
   "outputs": [],
   "source": []
  },
  {
   "cell_type": "code",
   "execution_count": null,
   "metadata": {},
   "outputs": [],
   "source": []
  }
 ],
 "metadata": {
  "kernelspec": {
   "display_name": "Python 3",
   "language": "python",
   "name": "python3"
  },
  "language_info": {
   "codemirror_mode": {
    "name": "ipython",
    "version": 3
   },
   "file_extension": ".py",
   "mimetype": "text/x-python",
   "name": "python",
   "nbconvert_exporter": "python",
   "pygments_lexer": "ipython3",
   "version": "3.7.4"
  }
 },
 "nbformat": 4,
 "nbformat_minor": 4
}
